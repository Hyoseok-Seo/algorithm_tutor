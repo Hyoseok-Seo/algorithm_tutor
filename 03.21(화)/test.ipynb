{
 "cells": [
  {
   "cell_type": "code",
   "execution_count": 1,
   "metadata": {},
   "outputs": [],
   "source": [
    "def cut(i,s):\n",
    "    \n",
    "    A = []\n",
    "    a = 'a'\n",
    "    for j in s:\n",
    "        a += j\n",
    "        if len(a) == i+1:\n",
    "            A.append(a)\n",
    "            a = 'a'\n",
    "    return A\n",
    "\n",
    "def solution(s):\n",
    "    \n",
    "    result = len(s)\n",
    "    s_length = len(s)//2\n",
    "    # 1~길이/2까지 전부 확인!\n",
    "    for i in range(1, s_length+1):\n",
    "        #i개 기준으로 절단!\n",
    "        B = cut(i,s)\n",
    "        flag = True\n",
    "        answer = len(s)\n",
    "        cnt = 0\n",
    "        # print(B)\n",
    "        #다음항과 비교 \n",
    "        for j in range(1,len(B)):\n",
    "            # print(answer)\n",
    "            if B[j-1] == B[j]:\n",
    "                cnt += 1\n",
    "                if cnt ==10:\n",
    "                    answer +=1\n",
    "                elif cnt == 100:\n",
    "                    answer +=1\n",
    "                elif cnt == 1000:\n",
    "                    answer +=1\n",
    "                if flag:\n",
    "                    flag = False\n",
    "                    answer += 1\n",
    "                    answer -= i\n",
    "                else:\n",
    "                    answer -= i\n",
    "            else:\n",
    "                flag = True\n",
    "                cnt=0\n",
    "                    \n",
    "        result = min(answer,result)        \n",
    "    return result"
   ]
  },
  {
   "cell_type": "code",
   "execution_count": 8,
   "metadata": {},
   "outputs": [
    {
     "data": {
      "text/plain": [
       "6"
      ]
     },
     "execution_count": 8,
     "metadata": {},
     "output_type": "execute_result"
    }
   ],
   "source": [
    "solution('aabbcccc')"
   ]
  },
  {
   "cell_type": "code",
   "execution_count": 29,
   "metadata": {},
   "outputs": [],
   "source": [
    "'''\n",
    "문제 풀지 말고 열어보지마세요 ㅠ_ㅠ  로직을 스스로 고민해야 실력이 늡니다 !!\n",
    "'''\n",
    "def solution(s):\n",
    "    answer = len(s)\n",
    "    # 차근차근 1자리부터 전체문자열의 절반길이까지 loop 진행\n",
    "    for step in range(1, len(s) // 2 + 1):\n",
    "        # 압축 단위 설정\n",
    "        prev = s[0:step]## s[0:1], s[0:2], s[0:3]...\n",
    "        # 압축된 값 저장\n",
    "        compressed = ''\n",
    "        count = 1\n",
    "        # prev 변수 가져와서 차근차근 비교하기, range 에 step 설정하여 건너뛰기\n",
    "        for j in range(step, len(s), step):\n",
    "            print(s[j:j+step])\n",
    "            # prev 변수와 같으면 갯수 +1\n",
    "            if prev == s[j:j+step]:\n",
    "                count += 1\n",
    "            # 만약 같지 않으면 패스 \n",
    "            else:\n",
    "                if count >= 2:\n",
    "                    compressed += str(count) + prev\n",
    "                else:\n",
    "                    compressed += prev\n",
    "                '''\n",
    "                compressed += str(count) + prev if count >= 2 else prev\n",
    "                '''\n",
    "                prev = s[j:j+step]\n",
    "                count = 1\n",
    "        if count >= 2:\n",
    "                    compressed += str(count) + prev\n",
    "        else:\n",
    "            compressed += prev\n",
    "        answer = min(answer, len(compressed))\n",
    "    return answer"
   ]
  },
  {
   "cell_type": "code",
   "execution_count": 30,
   "metadata": {},
   "outputs": [
    {
     "name": "stdout",
     "output_type": "stream",
     "text": [
      "b\n",
      "c\n",
      "a\n",
      "b\n",
      "c\n",
      "a\n",
      "b\n",
      "c\n",
      "a\n",
      "b\n",
      "c\n",
      "d\n",
      "e\n",
      "d\n",
      "e\n",
      "d\n",
      "e\n",
      "d\n",
      "e\n",
      "d\n",
      "e\n",
      "d\n",
      "e\n",
      "ca\n",
      "bc\n",
      "ab\n",
      "ca\n",
      "bc\n",
      "de\n",
      "de\n",
      "de\n",
      "de\n",
      "de\n",
      "de\n",
      "abc\n",
      "abc\n",
      "abc\n",
      "ded\n",
      "ede\n",
      "ded\n",
      "ede\n",
      "bcab\n",
      "cabc\n",
      "dede\n",
      "dede\n",
      "dede\n",
      "cabca\n",
      "bcded\n",
      "edede\n",
      "dede\n",
      "abcabc\n",
      "dedede\n",
      "dedede\n",
      "bcabcde\n",
      "dededed\n",
      "ede\n",
      "cabcdede\n",
      "dededede\n",
      "abcdedede\n",
      "dedede\n",
      "bcdededede\n",
      "dede\n",
      "cdedededede\n",
      "de\n",
      "dededededede\n"
     ]
    },
    {
     "data": {
      "text/plain": [
       "14"
      ]
     },
     "execution_count": 30,
     "metadata": {},
     "output_type": "execute_result"
    }
   ],
   "source": [
    "solution('abcabcabcabcdededededede')"
   ]
  },
  {
   "cell_type": "code",
   "execution_count": null,
   "metadata": {},
   "outputs": [],
   "source": []
  }
 ],
 "metadata": {
  "kernelspec": {
   "display_name": "Python 3",
   "language": "python",
   "name": "python3"
  },
  "language_info": {
   "codemirror_mode": {
    "name": "ipython",
    "version": 3
   },
   "file_extension": ".py",
   "mimetype": "text/x-python",
   "name": "python",
   "nbconvert_exporter": "python",
   "pygments_lexer": "ipython3",
   "version": "3.10.9"
  },
  "orig_nbformat": 4,
  "vscode": {
   "interpreter": {
    "hash": "aee8b7b246df8f9039afb4144a1f6fd8d2ca17a180786b69acc140d282b71a49"
   }
  }
 },
 "nbformat": 4,
 "nbformat_minor": 2
}
